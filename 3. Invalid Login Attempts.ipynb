{
 "cells": [
  {
   "cell_type": "markdown",
   "id": "e49136b9-d180-4835-8bd9-c2d3be595b87",
   "metadata": {},
   "source": [
    "# Testing Instagram Web Version"
   ]
  },
  {
   "cell_type": "code",
   "execution_count": 2,
   "id": "543b66c9-5340-4df3-aeae-2405c0182dc9",
   "metadata": {},
   "outputs": [],
   "source": [
    "# Importing Required Libraries\n",
    "from selenium import webdriver\n",
    "from selenium.webdriver.edge.options import Options  # Use Edge options\n",
    "from selenium.webdriver.common.by import By\n",
    "from selenium.webdriver.support.ui import WebDriverWait\n",
    "from selenium.webdriver.edge.service import Service  # Use Edge service\n",
    "from selenium.webdriver.support import expected_conditions as EC\n",
    "import time"
   ]
  },
  {
   "cell_type": "markdown",
   "id": "6485111a-4549-4be8-82e7-76b1632c9b5d",
   "metadata": {},
   "source": [
    "### TC_Login_02: Logging In with Valid Username and Invalid Password"
   ]
  },
  {
   "cell_type": "code",
   "execution_count": 3,
   "id": "dc2c315b-f5e2-49f8-95e9-4c999d445599",
   "metadata": {},
   "outputs": [
    {
     "name": "stdout",
     "output_type": "stream",
     "text": [
      "⚠️ No cookie popup found\n",
      "✅ Password Incorrect Message Displayed\n"
     ]
    }
   ],
   "source": [
    "# === Stealth Edge Setup ===\n",
    "options = Options()\n",
    "options.add_argument(\"window-size=1440,900\")\n",
    "options.add_argument(\"--disable-blink-features=AutomationControlled\")\n",
    "options.add_argument(\"--disable-infobars\")\n",
    "options.add_argument(\"--disable-extensions\")\n",
    "options.add_argument(\"--no-sandbox\")\n",
    "options.add_argument(\"--disable-dev-shm-usage\")\n",
    "\n",
    "# Provide the path to the Edge WebDriver executable (update with your path)\n",
    "edge_service = Service(executable_path=r\"C:\\Users\\hp\\msedgedriver.exe\")\n",
    "\n",
    "# Initialize the Edge WebDriver\n",
    "driver = webdriver.Edge(service=edge_service, options=options)\n",
    "wait = WebDriverWait(driver, 10)\n",
    "\n",
    "try:\n",
    "    # === Open Instagram Login Page ===\n",
    "    driver.get(\"https://www.instagram.com/accounts/login/\")\n",
    "    time.sleep(10)\n",
    "    driver.delete_all_cookies()  # Clear cookies before starting a new session\n",
    "\n",
    "    # === Accept Cookies ===\n",
    "    try:\n",
    "        driver.find_element(By.XPATH, \"//button[text()='Only allow essential cookies']\").click()\n",
    "        print(\"✅ Cookies accepted\")\n",
    "    except Exception as e:\n",
    "        print(\"⚠️ No cookie popup found\")\n",
    "\n",
    "    # === Login Credentials ===\n",
    "    USERNAME = \"nakama_2113\"\n",
    "    PASSWORD = \"wrongpassword\"\n",
    "\n",
    "    wait.until(EC.presence_of_element_located((By.NAME, \"username\"))).send_keys(USERNAME)\n",
    "    time.sleep(10)\n",
    "    driver.find_element(By.NAME, \"password\").send_keys(PASSWORD)\n",
    "    time.sleep(10)\n",
    "    wait.until(EC.element_to_be_clickable((By.XPATH, \"//button[@type='submit' and not(@disabled)]\"))).click()\n",
    "    print(\"✅ Password Incorrect Message Displayed\")\n",
    "\n",
    "except Exception as e:\n",
    "    print(f\"❌ Automation failed: {e}\")\n",
    "\n",
    "finally:\n",
    "    # Ensure the browser closes\n",
    "    driver.quit()"
   ]
  },
  {
   "cell_type": "markdown",
   "id": "67a05a09-b5bb-4ce1-9777-bc96d27a0af1",
   "metadata": {},
   "source": [
    "### TC_Login_03: Logging In with spaces before or after username/ password"
   ]
  },
  {
   "cell_type": "code",
   "execution_count": 4,
   "id": "c54aebca-cd40-4974-ba89-dadb19d33e29",
   "metadata": {},
   "outputs": [
    {
     "name": "stdout",
     "output_type": "stream",
     "text": [
      "⚠️ No cookie popup found\n",
      "✅ Password Incorrect Message Displayed\n"
     ]
    }
   ],
   "source": [
    "# === Stealth Edge Setup ===\n",
    "options = Options()\n",
    "options.add_argument(\"window-size=1440,900\")\n",
    "options.add_argument(\"--disable-blink-features=AutomationControlled\")\n",
    "options.add_argument(\"--disable-infobars\")\n",
    "options.add_argument(\"--disable-extensions\")\n",
    "options.add_argument(\"--no-sandbox\")\n",
    "options.add_argument(\"--disable-dev-shm-usage\")\n",
    "\n",
    "# Provide the path to the Edge WebDriver executable (update with your path)\n",
    "edge_service = Service(executable_path=r\"C:\\Users\\hp\\msedgedriver.exe\")\n",
    "\n",
    "# Initialize the Edge WebDriver\n",
    "driver = webdriver.Edge(service=edge_service, options=options)\n",
    "wait = WebDriverWait(driver, 10)\n",
    "\n",
    "try:\n",
    "    # === Open Instagram Login Page ===\n",
    "    driver.get(\"https://www.instagram.com/accounts/login/\")\n",
    "    time.sleep(10)\n",
    "    driver.delete_all_cookies()  # Clear cookies before starting a new session\n",
    "\n",
    "    # === Accept Cookies ===\n",
    "    try:\n",
    "        driver.find_element(By.XPATH, \"//button[text()='Only allow essential cookies']\").click()\n",
    "        print(\"✅ Cookies accepted\")\n",
    "    except Exception as e:\n",
    "        print(\"⚠️ No cookie popup found\")\n",
    "\n",
    "    # === Login Credentials ===\n",
    "    USERNAME = \"nakama_2113 \"\n",
    "    PASSWORD = \" rightpassword@123\"\n",
    "\n",
    "    wait.until(EC.presence_of_element_located((By.NAME, \"username\"))).send_keys(USERNAME)\n",
    "    time.sleep(10)\n",
    "    driver.find_element(By.NAME, \"password\").send_keys(PASSWORD)\n",
    "    time.sleep(10)\n",
    "    wait.until(EC.element_to_be_clickable((By.XPATH, \"//button[@type='submit' and not(@disabled)]\"))).click()\n",
    "    print(\"✅ Password Incorrect Message Displayed\")\n",
    "\n",
    "except Exception as e:\n",
    "    print(f\"❌ Automation failed: {e}\")\n",
    "\n",
    "finally:\n",
    "    # Ensure the browser closes\n",
    "    driver.quit()"
   ]
  }
 ],
 "metadata": {
  "kernelspec": {
   "display_name": "Python 3 (ipykernel)",
   "language": "python",
   "name": "python3"
  },
  "language_info": {
   "codemirror_mode": {
    "name": "ipython",
    "version": 3
   },
   "file_extension": ".py",
   "mimetype": "text/x-python",
   "name": "python",
   "nbconvert_exporter": "python",
   "pygments_lexer": "ipython3",
   "version": "3.12.1"
  }
 },
 "nbformat": 4,
 "nbformat_minor": 5
}
