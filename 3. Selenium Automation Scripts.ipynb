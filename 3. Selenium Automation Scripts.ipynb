{
 "cells": [
  {
   "cell_type": "markdown",
   "id": "0eb18d74-56f2-4d8f-8e02-44b1f8f9dbd4",
   "metadata": {},
   "source": [
    "# Testing Instagram Web Version"
   ]
  },
  {
   "cell_type": "code",
   "execution_count": 1,
   "id": "eadfacde-07ef-43bd-b4e7-ae9554dab256",
   "metadata": {},
   "outputs": [],
   "source": [
    "# Importing Required Libraries\n",
    "from selenium import webdriver\n",
    "from selenium.webdriver.edge.options import Options  # Use Edge options\n",
    "from selenium.webdriver.common.by import By\n",
    "from selenium.webdriver.support.ui import WebDriverWait\n",
    "from selenium.webdriver.edge.service import Service  # Use Edge service\n",
    "from selenium.webdriver.support import expected_conditions as EC\n",
    "import time"
   ]
  },
  {
   "cell_type": "markdown",
   "id": "dc85f12c-2c05-4eee-817b-746211d70daf",
   "metadata": {},
   "source": [
    "### TC_Login_01: Logging In with Valid Username and Password"
   ]
  },
  {
   "cell_type": "code",
   "execution_count": 2,
   "id": "5698a8f6-f60d-4e09-b04a-f74e361d5e95",
   "metadata": {},
   "outputs": [
    {
     "name": "stdout",
     "output_type": "stream",
     "text": [
      "⚠️ No cookie popup found\n",
      "✅ Login button clicked\n",
      "✅ Dismissed 'Save Login Info'\n"
     ]
    }
   ],
   "source": [
    "# === Stealth Edge Setup ===\n",
    "options = Options()\n",
    "options.add_argument(\"window-size=1440,900\")\n",
    "options.add_argument(\"--disable-blink-features=AutomationControlled\")\n",
    "options.add_argument(\"--disable-infobars\")\n",
    "options.add_argument(\"--disable-extensions\")\n",
    "options.add_argument(\"--no-sandbox\")\n",
    "options.add_argument(\"--disable-dev-shm-usage\")\n",
    "\n",
    "# Provide the path to the Edge WebDriver executable (update with your path)\n",
    "edge_service = Service(executable_path=r\"C:\\Users\\hp\\msedgedriver.exe\")\n",
    "\n",
    "# Initialize the Edge WebDriver\n",
    "driver = webdriver.Edge(service=edge_service, options=options)\n",
    "wait = WebDriverWait(driver, 10)\n",
    "\n",
    "try:\n",
    "    # === Open Instagram Login Page ===\n",
    "    driver.get(\"https://www.instagram.com/accounts/login/\")\n",
    "    time.sleep(10)\n",
    "    driver.delete_all_cookies()  # Clear cookies before starting a new session\n",
    "\n",
    "    # === Accept Cookies ===\n",
    "    try:\n",
    "        driver.find_element(By.XPATH, \"//button[text()='Only allow essential cookies']\").click()\n",
    "        print(\"✅ Cookies accepted\")\n",
    "    except Exception as e:\n",
    "        print(\"⚠️ No cookie popup found\")\n",
    "\n",
    "    # === Login Credentials ===\n",
    "    USERNAME = \"nakama_2113\"\n",
    "    PASSWORD = \"rightpassword@123\"\n",
    "\n",
    "    wait.until(EC.presence_of_element_located((By.NAME, \"username\"))).send_keys(USERNAME)\n",
    "    time.sleep(10)\n",
    "    driver.find_element(By.NAME, \"password\").send_keys(PASSWORD)\n",
    "    time.sleep(10)\n",
    "    wait.until(EC.element_to_be_clickable((By.XPATH, \"//button[@type='submit' and not(@disabled)]\"))).click()\n",
    "    print(\"✅ Login button clicked\")\n",
    "\n",
    "    # === Handle 'Save Login Info' popup ===\n",
    "    try:\n",
    "        wait.until(EC.element_to_be_clickable((By.XPATH, \"//div[contains(@class, 'x1i10hfl xjqpnuy xa49m3k xqeqjp1 x2hbi6w xdl72j9 x2lah0s xe8uvvx xdj266r x11i5rnm xat24cr x1mh8g0r x2lwn1j xeuugli x1hl2dhg xggy1nq x1ja2u2z x1t137rt x1q0g3np x1lku1pv x1a2a7pz x6s0dn4 xjyslct x1ejq31n xd10rxx x1sy0etr x17r0tee x9f619 x1ypdohk x1f6kntn xwhw2v2 xl56j7k x17ydfre x2b8uid xlyipyv x87ps6o x14atkfc xcdnw81 x1i0vuye xjbqb8w xm3z3ea x1x8b98j x131883w x16mih1h x972fbf xcfux6l x1qhh985 xm0m39n xt0psk2 xt7dq6l xexx8yu x4uap5 x18d9i69 xkhd6sd x1n2onr6 x1n5bzlp x173jzuc x1yc6y37')]\"))).click()\n",
    "        print(\"✅ Dismissed 'Save Login Info'\")\n",
    "    except Exception as e:\n",
    "        print(\"⚠️ 'Save Login Info' popup not found\")\n",
    "\n",
    "except Exception as e:\n",
    "    print(f\"❌ Automation failed: {e}\")"
   ]
  },
  {
   "cell_type": "markdown",
   "id": "a46a7514-9925-4cc6-83b2-76bbdd1b85a0",
   "metadata": {},
   "source": [
    "### TC_Profile_03: Update profile bio with special characters"
   ]
  },
  {
   "cell_type": "code",
   "execution_count": 3,
   "id": "0db6f3f6-1fca-4b05-9894-2be5cbddea23",
   "metadata": {},
   "outputs": [
    {
     "name": "stdout",
     "output_type": "stream",
     "text": [
      "✅ Navigated to Profile\n",
      "✅ Navigated to Edit Profile\n",
      "✅ Updated Bio\n",
      "✅ Bio updated successfully\n"
     ]
    }
   ],
   "source": [
    "try:\n",
    "    # Step 2: Navigate to Profile Section\n",
    "    profile_btn_xpath = \"/html/body/div[1]/div/div/div[2]/div/div/div[1]/div[1]/div[1]/section/main/div[1]/div[2]/div/div[1]/div/div/div/div/div/div[2]/div/div/div/a\"\n",
    "    profile_btn = WebDriverWait(driver, 10).until(EC.element_to_be_clickable((By.XPATH, profile_btn_xpath)))\n",
    "    time.sleep(2)\n",
    "    profile_btn.click()\n",
    "    print(\"✅ Navigated to Profile\")\n",
    "    \n",
    "    # Step 3: Navigate to Edit Profile Section\n",
    "    editprof_btn_xpath = \"/html/body/div[1]/div/div/div[2]/div/div/div[1]/div[2]/div/div[1]/section/main/div/header/section[2]/div/div/div[2]/div/div[1]/a\"\n",
    "    editprof_btn = WebDriverWait(driver, 10).until(EC.element_to_be_clickable((By.XPATH, editprof_btn_xpath)))\n",
    "    time.sleep(2)\n",
    "    editprof_btn.click()\n",
    "    print(\"✅ Navigated to Edit Profile\")\n",
    "    \n",
    "    # Step 4: Update Bio\n",
    "    bio_input_xpath = \"//*[@id='pepBio']\"\n",
    "    bio_input = WebDriverWait(driver, 15).until(EC.presence_of_element_located((By.XPATH, bio_input_xpath)))\n",
    "    bio_input.clear()\n",
    "    bio_input.send_keys(\"@mugiwara\")\n",
    "    time.sleep(5)\n",
    "    print(\"✅ Updated Bio\")\n",
    "    \n",
    "    # Step 5: Submit Changes\n",
    "    submit_button_xpath = \"/html/body/div[1]/div/div/div[2]/div/div/div[1]/div[1]/div[1]/section/main/div/div[3]/div/div/form/div[5]/div\"\n",
    "    submit_button = WebDriverWait(driver, 15).until(EC.element_to_be_clickable((By.XPATH, submit_button_xpath)))\n",
    "    driver.execute_script(\"arguments[0].scrollIntoView(true);\", submit_button)  # Scroll into view\n",
    "    time.sleep(4)\n",
    "    submit_button.click()\n",
    "    print(\"✅ Bio updated successfully\")\n",
    "    \n",
    "except Exception as e:    \n",
    "    print(f\"❌ Automation failed: {str(e)}\")"
   ]
  },
  {
   "cell_type": "markdown",
   "id": "ff0e48d5-c0b7-424a-93a2-94185149b734",
   "metadata": {},
   "source": [
    "### TC_Content_05: Verify user can share note "
   ]
  },
  {
   "cell_type": "code",
   "execution_count": 4,
   "id": "7c19b2f5-043c-4255-bea7-5a896dfe5d39",
   "metadata": {},
   "outputs": [
    {
     "name": "stdout",
     "output_type": "stream",
     "text": [
      "✅ Navigated to Profile\n",
      "✅ Creating a new note.\n",
      "✅ Note entered.\n",
      "✅ Note shared successfully.\n"
     ]
    }
   ],
   "source": [
    "# Step 5: Wait for page and attempt to share notes\n",
    "wait = WebDriverWait(driver, 15)\n",
    "\n",
    "try:\n",
    "    # Step 1: Navigate to Profile Section\n",
    "    profile_btn_xpath = \"/html/body/div[1]/div/div/div[2]/div/div/div[1]/div[1]/div[2]/div/div/div/div/div[2]/div[8]/div/span/div/a/div/div[1]/div/div/span/img\"\n",
    "    profile_btn = WebDriverWait(driver, 15).until(EC.element_to_be_clickable((By.XPATH, profile_btn_xpath)))\n",
    "    time.sleep(2)\n",
    "    profile_btn.click()\n",
    "    print(\"✅ Navigated to Profile\")\n",
    "\n",
    "   # Step 4: Create New Note\n",
    "    new_note_xpath = \"/html/body/div[1]/div/div/div[2]/div/div/div[1]/div[2]/div/div[1]/section/main/div/header/section[1]/div/div/div/div[1]/div/div/div/div/div/div\"\n",
    "    new_note_btn = WebDriverWait(driver, 15).until(EC.element_to_be_clickable((By.XPATH, new_note_xpath)))\n",
    "    time.sleep(2)\n",
    "    new_note_btn.click()\n",
    "    print(\"✅ Creating a new note.\")\n",
    "\n",
    "    # Step 5: Enter Thought in Textarea\n",
    "    thought_input_xpath = \"//div[contains(@class, 'xw2csxc x1odjw0f x1n2onr6 x1hnll1o xpqswwc x5n08af x1hkcv85 x5w4yej x1yc453h notranslate')]\"\n",
    "    thought_input = WebDriverWait(driver, 15).until(EC.presence_of_element_located((By.XPATH, thought_input_xpath)))\n",
    "    time.sleep(3)\n",
    "    driver.execute_script(\"arguments[0].value = arguments[1];\", thought_input, \"Anyone Who Tries to Make Everyone Happy Is Admirable.\")\n",
    "    thought_input.send_keys(\"Anyone Who Tries to Make Everyone Happy Is Admirable.\")\n",
    "    print(\"✅ Note entered.\")\n",
    "\n",
    "    # Step 6: Click Share/Done Button\n",
    "    share_btn_xpath = \"//div[contains(@class, 'x1i10hfl xjqpnuy xa49m3k xqeqjp1 x2hbi6w xdl72j9 x2lah0s xe8uvvx xdj266r x11i5rnm xat24cr x1mh8g0r x2lwn1j xeuugli x1hl2dhg xggy1nq x1ja2u2z x1t137rt x1q0g3np x1lku1pv x1a2a7pz x6s0dn4 xjyslct x1ejq31n xd10rxx x1sy0etr x17r0tee x9f619 x1ypdohk x1f6kntn xwhw2v2 xl56j7k x17ydfre x2b8uid xlyipyv x87ps6o x14atkfc xcdnw81 x1i0vuye xjbqb8w xm3z3ea x1x8b98j x131883w x16mih1h x972fbf xcfux6l x1qhh985 xm0m39n xt0psk2 xt7dq6l xexx8yu x4uap5 x18d9i69 xkhd6sd x1n2onr6 x1n5bzlp x173jzuc x1yc6y37')]\"\n",
    "    share_btn = WebDriverWait(driver, 15).until(EC.element_to_be_clickable((By.XPATH, share_btn_xpath)))\n",
    "    time.sleep(2)\n",
    "    share_btn.click()\n",
    "    print(\"✅ Note shared successfully.\")\n",
    "\n",
    "except Exception as e:\n",
    "    print(f\"❌ Automation failed: {str(e)}\")"
   ]
  },
  {
   "cell_type": "markdown",
   "id": "c3a42453-26c2-4cf3-954a-911cbc31ec53",
   "metadata": {},
   "source": [
    "### TC_Search_01: Search Existing User"
   ]
  },
  {
   "cell_type": "code",
   "execution_count": 5,
   "id": "53bc0f92-a7b3-4ef7-b178-663b8df93b24",
   "metadata": {},
   "outputs": [
    {
     "name": "stdout",
     "output_type": "stream",
     "text": [
      "✅ Search button clicked.\n",
      "✅ Username entered in search field.\n",
      "✅ Profile selected from search results.\n"
     ]
    }
   ],
   "source": [
    "# Step 5: Wait for page and attempt search user\n",
    "wait = WebDriverWait(driver, 15)\n",
    "\n",
    "try:\n",
    "    # Step 1: Click on the Search Button\n",
    "    search_btn_xpath = \"/html/body/div[1]/div/div/div[2]/div/div/div[1]/div[2]/div/div[2]/div/div/div/div/div[2]/div[2]/span/div/a/div\"\n",
    "    search_btn = WebDriverWait(driver, 15).until(EC.element_to_be_clickable((By.XPATH, search_btn_xpath)))\n",
    "    time.sleep(2)\n",
    "    search_btn.click()\n",
    "    print(\"✅ Search button clicked.\")\n",
    "\n",
    "    # Step 2: Enter Username in Search Field\n",
    "    search_input_xpath = \"/html/body/div[1]/div/div/div[2]/div/div/div[1]/div[2]/div/div[2]/div/div/div[2]/div/div/div/div[2]/div/div/div[1]/div/div/input\"\n",
    "    search_input = WebDriverWait(driver, 15).until(EC.presence_of_element_located((By.XPATH, search_input_xpath)))\n",
    "    time.sleep(2)\n",
    "    search_input.clear()\n",
    "    search_input.send_keys(\"anime_ottawa\")\n",
    "    print(\"✅ Username entered in search field.\")\n",
    "\n",
    "    # Step 3: Select Profile from Search Results\n",
    "    profile_result_xpath = \"/html/body/div[1]/div/div/div[2]/div/div/div[1]/div[2]/div/div[2]/div/div/div[2]/div/div/div/div[2]/div/div/div[2]/div/a[1]\"  # Update XPath based on DOM structure\n",
    "    profile_result = WebDriverWait(driver, 15).until(EC.element_to_be_clickable((By.XPATH, profile_result_xpath)))\n",
    "    time.sleep(10)\n",
    "    profile_result.click()\n",
    "    print(\"✅ Profile selected from search results.\")\n",
    "    time.sleep(10)\n",
    "\n",
    "except Exception as e:\n",
    "    print(f\"❌ Automation failed: {str(e)}\")\n",
    "\n",
    "finally:\n",
    "    # Ensure the browser closes\n",
    "    driver.quit()"
   ]
  }
 ],
 "metadata": {
  "kernelspec": {
   "display_name": "Python 3 (ipykernel)",
   "language": "python",
   "name": "python3"
  },
  "language_info": {
   "codemirror_mode": {
    "name": "ipython",
    "version": 3
   },
   "file_extension": ".py",
   "mimetype": "text/x-python",
   "name": "python",
   "nbconvert_exporter": "python",
   "pygments_lexer": "ipython3",
   "version": "3.12.1"
  }
 },
 "nbformat": 4,
 "nbformat_minor": 5
}
